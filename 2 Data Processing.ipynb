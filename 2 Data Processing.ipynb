{
 "cells": [
  {
   "cell_type": "markdown",
   "metadata": {},
   "source": [
    "# Data Processing"
   ]
  },
  {
   "cell_type": "code",
   "execution_count": null,
   "metadata": {},
   "outputs": [],
   "source": [
    "import psycopg2\n",
    "from psycopg2 import sql\n",
    "from collections import OrderedDict\n",
    "\n",
    "import spacy\n",
    "from spacy.lang.en.stop_words import STOP_WORDS\n",
    "from spacy.language import Language\n",
    "from spacy.tokens import Token\n",
    "\n",
    "from tqdm import tqdm"
   ]
  },
  {
   "cell_type": "code",
   "execution_count": null,
   "metadata": {},
   "outputs": [],
   "source": [
    "import multiprocessing\n",
    "multiprocessing.set_start_method('fork') # Because Mac OS does not default to forking processes."
   ]
  },
  {
   "cell_type": "markdown",
   "metadata": {},
   "source": [
    "## Tokenize NYT articles"
   ]
  },
  {
   "cell_type": "code",
   "execution_count": null,
   "metadata": {},
   "outputs": [],
   "source": [
    "conn = psycopg2.connect(host = 'localhost', database = 'nytpopular')\n",
    "with conn.cursor() as cursor:\n",
    "    cursor.execute('''SELECT article, id\n",
    "                        FROM articles\n",
    "                        WHERE article IS NOT NULL;''')\n",
    "    article_table = cursor.fetchall()\n",
    "conn.close()"
   ]
  },
  {
   "cell_type": "code",
   "execution_count": null,
   "metadata": {},
   "outputs": [],
   "source": [
    "POS_blacklist = [\n",
    "    'ADP',\n",
    "    'ADV',\n",
    "    'AUX',\n",
    "    'CONJ',\n",
    "    'CCONJ',\n",
    "    'DET',\n",
    "    'INJ',\n",
    "    'PART',\n",
    "    'PRON',\n",
    "    'PUNCT',\n",
    "    'SCONJ',\n",
    "]\n",
    "\n",
    "stops = set(STOP_WORDS)\n",
    "stops.update(\n",
    "    [\"'s\", \"mr.\", \"mrs.\", \"ms.\", \"said\", \"according\"]\n",
    ")\n",
    "\n",
    "@Language.component(\"lowercase_lemmas\")\n",
    "def lowercase_lemmas(doc : spacy.tokens.doc.Doc) -> spacy.tokens.doc.Doc:\n",
    "    for token in doc:\n",
    "        token.lemma_ = token.lemma_.lower()\n",
    "    return doc\n",
    "    \n",
    "def get_is_excluded(token):\n",
    "    return (token.pos_ in POS_blacklist) or (token.lemma_ in stops)\n",
    "\n",
    "if not Token.has_extension('is_excluded'):\n",
    "    Token.set_extension('is_excluded', getter=get_is_excluded)\n",
    "\n",
    "nlp = spacy.load('en_core_web_sm', disable = ['ner'])\n",
    "nlp.add_pipe('lowercase_lemmas', last = True)"
   ]
  },
  {
   "cell_type": "code",
   "execution_count": null,
   "metadata": {},
   "outputs": [],
   "source": [
    "docs_generator = nlp.pipe(article_table, n_process=4, as_tuples=True)\n",
    "\n",
    "docs = []\n",
    "for doc, context in tqdm(docs_generator, total = len(article_table)):\n",
    "    docs.append((context, [token.lemma_ for token in doc if not token._.is_excluded], [sentence.text for sentence in doc.sents]))"
   ]
  },
  {
   "cell_type": "code",
   "execution_count": null,
   "metadata": {},
   "outputs": [],
   "source": [
    "conn = psycopg2.connect(host = 'localhost', database = 'nytpopular')\n",
    "conn.autocommit = True\n",
    "cursor = conn.cursor()\n",
    "\n",
    "# Create tweets table\n",
    "cursor.execute('''CREATE TABLE wordbags (\n",
    "\tid BIGINT PRIMARY KEY,\n",
    "    bag TEXT[],\n",
    "    sentences TEXT[]\n",
    ");''')\n",
    "\n",
    "def insertWordBagintoDB(bag, cursor):\n",
    "    fields = OrderedDict()\n",
    "    fields['id'] = bag[0]\n",
    "    fields['bag'] = bag[1]\n",
    "    fields['sentences'] = bag[2]\n",
    "    keys, items = zip(*fields.items())\n",
    "    keys = sql.SQL(',').join(map(sql.Identifier, keys))\n",
    "    items = sql.Literal(items)\n",
    "    command = sql.SQL('INSERT INTO wordbags ({}) VALUES {} ON CONFLICT (id) DO NOTHING;').format(keys, items)\n",
    "    cursor.execute(command)\n",
    "\n",
    "for bag in docs:\n",
    "    insertWordBagintoDB(bag, cursor)\n",
    "\n",
    "cursor.close()\n",
    "conn.close()"
   ]
  },
  {
   "cell_type": "markdown",
   "metadata": {},
   "source": [
    "# The Train-Validation-Test Split\n",
    "\n",
    "I might add new articles to the dataset in the future, so I need a robust and consistent way to train-test split."
   ]
  },
  {
   "cell_type": "code",
   "execution_count": null,
   "metadata": {},
   "outputs": [],
   "source": [
    "from zlib import crc32\n",
    "\n",
    "def twitter_id_hash(id : int) -> int:\n",
    "    return crc32((id & 0xFFFFFFFF).to_bytes(4, byteorder = 'big'))\n",
    "\n",
    "def train_or_test(hash_ : int) -> str:\n",
    "    TWO_POW_32 = 4294967296\n",
    "    if hash_ < 0.6 * TWO_POW_32:\n",
    "        return 'train'\n",
    "    elif hash_ < 0.8 * TWO_POW_32:\n",
    "        return 'valid'\n",
    "    else:\n",
    "        return 'test'"
   ]
  },
  {
   "cell_type": "code",
   "execution_count": null,
   "metadata": {},
   "outputs": [],
   "source": [
    "conn = psycopg2.connect(host = 'localhost', database = 'nytpopular')\n",
    "conn.autocommit = True\n",
    "cursor = conn.cursor()\n",
    "\n",
    "cursor.execute('''SELECT id\n",
    "                    FROM tweets;''')\n",
    "ids = [item[0] for item in cursor.fetchall()]\n",
    "\n",
    "# Create tweets table\n",
    "cursor.execute('''CREATE TABLE traintest (\n",
    "\tid BIGINT PRIMARY KEY,\n",
    "    hash BIGINT,\n",
    "    split VARCHAR(5)\n",
    ");''')\n",
    "\n",
    "def insertTrainTestintoDB(id, cursor):\n",
    "    fields = OrderedDict()\n",
    "    fields['id'] = id\n",
    "    fields['hash'] = twitter_id_hash(id)\n",
    "    fields['split'] = train_or_test(fields['hash'])\n",
    "    keys, items = zip(*fields.items())\n",
    "    keys = sql.SQL(',').join(map(sql.Identifier, keys))\n",
    "    items = sql.Literal(items)\n",
    "    command = sql.SQL('INSERT INTO traintest ({}) VALUES {} ON CONFLICT (id) DO NOTHING;').format(keys, items)\n",
    "    cursor.execute(command)\n",
    "\n",
    "for id in ids:\n",
    "    insertTrainTestintoDB(id, cursor)\n",
    "\n",
    "cursor.close()\n",
    "conn.close()"
   ]
  }
 ],
 "metadata": {
  "kernelspec": {
   "display_name": "Python 3.9.12 ('nlp')",
   "language": "python",
   "name": "python3"
  },
  "language_info": {
   "codemirror_mode": {
    "name": "ipython",
    "version": 3
   },
   "file_extension": ".py",
   "mimetype": "text/x-python",
   "name": "python",
   "nbconvert_exporter": "python",
   "pygments_lexer": "ipython3",
   "version": "3.9.12"
  },
  "orig_nbformat": 4,
  "vscode": {
   "interpreter": {
    "hash": "afec85e4e0434ea33caacea98104dd814548505e62e641cda5ed97744c3d83c8"
   }
  }
 },
 "nbformat": 4,
 "nbformat_minor": 2
}
